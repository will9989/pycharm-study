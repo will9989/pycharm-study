{
 "cells": [
  {
   "cell_type": "code",
   "execution_count": null,
   "id": "b9103b92",
   "metadata": {},
   "outputs": [],
   "source": [
    "def sumOFN(n):\n",
    "    theSum = 0 \n",
    "    for i in range (1, n+1):\n",
    "        theSume = theSum + i \n",
    "    return theSum"
   ]
  },
  {
   "cell_type": "code",
   "execution_count": null,
   "id": "9e719040",
   "metadata": {},
   "outputs": [],
   "source": [
    "def anagramSolution(s1, s2):\n",
    "    alist = list(s2)\n",
    "    pos1 = 0 \n",
    "    stillOK = True\n",
    "    \n",
    "    while pos1 < len(s1) and stillok:\n",
    "        pos2 = 0\n",
    "        found = False\n",
    "        while pos2 < len(alist) and not found:\n",
    "            if s1[pos1] == alist[pos2]:\n",
    "                found = True\n",
    "                else:\n",
    "                    pos2 = pos2 + 1\n",
    "        \n",
    "        if found:\n",
    "            alist[pos2] = None\n",
    "        else:\n",
    "            stillOK = False\n",
    "            \n",
    "        pos1 = pos1 + 1\n",
    "        \n",
    "    return stillOK\n",
    "        "
   ]
  },
  {
   "cell_type": "code",
   "execution_count": null,
   "id": "e2ae5b89",
   "metadata": {},
   "outputs": [],
   "source": [
    "def anagramSolution2(s1, s2):\n",
    "    alist1 = list(s1)\n",
    "    alist2 = list(s2)\n",
    "    \n",
    "    alist1.sort()\n",
    "    alist2.sort()\n",
    "    \n",
    "    pos = 0 \n",
    "    matches = True\n",
    "    \n",
    "    while pos < len(s1) and matches:\n",
    "        if alist1[pos] == alist2[pos]:\n",
    "            pos = pos + 1\n",
    "        else:\n",
    "            matches = False\n",
    "    \n",
    "    return matches\n",
    "    \n",
    "    \n",
    "    "
   ]
  },
  {
   "cell_type": "code",
   "execution_count": 15,
   "id": "732a535c",
   "metadata": {},
   "outputs": [],
   "source": [
    "class Stack:\n",
    "    def __init__(self):\n",
    "        self.items = []\n",
    "        \n",
    "    def isEmpty(self):\n",
    "        return self.items == []\n",
    "    \n",
    "    def push(self,item):\n",
    "        self.items.append(item)\n",
    "    \n",
    "    def pop(self):\n",
    "        return self.items.pop()\n",
    "    \n",
    "    def size(self):\n",
    "        return len(self.items)"
   ]
  },
  {
   "cell_type": "code",
   "execution_count": 16,
   "id": "5bddf690",
   "metadata": {},
   "outputs": [],
   "source": [
    "s = Stack()"
   ]
  },
  {
   "cell_type": "code",
   "execution_count": 17,
   "id": "09be1822",
   "metadata": {},
   "outputs": [
    {
     "data": {
      "text/plain": [
       "True"
      ]
     },
     "execution_count": 17,
     "metadata": {},
     "output_type": "execute_result"
    }
   ],
   "source": [
    "s.isEmpty()"
   ]
  },
  {
   "cell_type": "code",
   "execution_count": 18,
   "id": "6d6e6e8b",
   "metadata": {},
   "outputs": [],
   "source": [
    "s.push(4)"
   ]
  },
  {
   "cell_type": "code",
   "execution_count": 22,
   "id": "9e6f617d",
   "metadata": {},
   "outputs": [],
   "source": [
    "s.push('jkl')"
   ]
  },
  {
   "cell_type": "code",
   "execution_count": 23,
   "id": "b34bda49",
   "metadata": {},
   "outputs": [
    {
     "data": {
      "text/plain": [
       "'jkl'"
      ]
     },
     "execution_count": 23,
     "metadata": {},
     "output_type": "execute_result"
    }
   ],
   "source": [
    "s.pop()"
   ]
  },
  {
   "cell_type": "code",
   "execution_count": 24,
   "id": "64f5d158",
   "metadata": {},
   "outputs": [
    {
     "data": {
      "text/plain": [
       "1"
      ]
     },
     "execution_count": 24,
     "metadata": {},
     "output_type": "execute_result"
    }
   ],
   "source": [
    "s.size()"
   ]
  },
  {
   "cell_type": "markdown",
   "id": "43b62045",
   "metadata": {},
   "source": [
    "# 括號匹配"
   ]
  },
  {
   "cell_type": "code",
   "execution_count": null,
   "id": "758f0620",
   "metadata": {},
   "outputs": [],
   "source": [
    "from pythonds.basic import Stack\n",
    "\n",
    "def parChecker(sysmbolString):\n",
    "    s = Stack()\n",
    "    balanced = True\n",
    "    index = 0 \n",
    "    while index < len(sysmbolString) and balanced:\n",
    "        sysmbol = sysmbolString[index]\n",
    "        if sysmbol == \"(\":\n",
    "            s.push(sysmbol)\n",
    "        else:\n",
    "            if s.isEmpty():\n",
    "                balanced = False\n",
    "            else:\n",
    "                s.pop()\n",
    "        index = index + 1 \n",
    "    \n",
    "    if balanced and s.isEmpty():\n",
    "        return True\n",
    "    else:\n",
    "        return False"
   ]
  },
  {
   "cell_type": "markdown",
   "id": "92fc5edc",
   "metadata": {},
   "source": [
    "# 符號匹配"
   ]
  },
  {
   "cell_type": "code",
   "execution_count": null,
   "id": "82bcd67b",
   "metadata": {},
   "outputs": [],
   "source": [
    "from pythonds.basic import Stack\n",
    "\n",
    "def parChecker(sysmbolString):\n",
    "    s = Stack()\n",
    "    balanced = True\n",
    "    index = 0 \n",
    "    while index < len(sysmbolString) and balanced:\n",
    "        sysmbol = sysmbolString[index]\n",
    "        if sysmbol == \"([{\":\n",
    "            s.push(sysmbol)\n",
    "        else:\n",
    "            if s.isEmpty():\n",
    "                balanced = False\n",
    "            else:\n",
    "                top = s.pop()\n",
    "                if not matches(top, symbol):\n",
    "                    balanced = False\n",
    "                    index = index + 1 \n",
    "        if balanced and s.isEmpty():\n",
    "            return True\n",
    "        else:\n",
    "            return False\n",
    "        \n",
    "def matches(open, close):\n",
    "    opens = \"([{\"\n",
    "    closers = \"}])\"\n",
    "    \n",
    "    return opens.index(open) == closers.indexdex(close)"
   ]
  },
  {
   "cell_type": "markdown",
   "id": "1b165dc9",
   "metadata": {},
   "source": [
    "# 十進制轉化二進制"
   ]
  },
  {
   "cell_type": "code",
   "execution_count": 3,
   "id": "570a3f78",
   "metadata": {},
   "outputs": [],
   "source": [
    "from pythonds.basic import Stack\n",
    "\n",
    "def dividBy2(decNumber):\n",
    "    remstack = Stack()\n",
    "    \n",
    "    while decNumber > 0:\n",
    "        rem = decNumber % 2\n",
    "        remstack.push(rem)\n",
    "        decNumber = decNumber // 2\n",
    "        \n",
    "    binString = \"\"\n",
    "    while not remstack.isEmpty():\n",
    "        binString = binString + str(remstack.pop())\n",
    "        \n",
    "    return binString"
   ]
  },
  {
   "cell_type": "code",
   "execution_count": 4,
   "id": "4083e6cf",
   "metadata": {},
   "outputs": [
    {
     "data": {
      "text/plain": [
       "'1100100'"
      ]
     },
     "execution_count": 4,
     "metadata": {},
     "output_type": "execute_result"
    }
   ],
   "source": [
    "dividBy2(100)"
   ]
  },
  {
   "cell_type": "code",
   "execution_count": 5,
   "id": "b22f9c8f",
   "metadata": {},
   "outputs": [],
   "source": [
    "from pythonds.basic import Stack\n",
    "\n",
    "def baseConverter(decNumber, base):\n",
    "    digits = \"0123456789ABCDEF\"\n",
    "    \n",
    "    remstack = Stack()\n",
    "    \n",
    "    while decNumber > 0:\n",
    "        rem = decNumber % base\n",
    "        remstack.push(rem)\n",
    "        decNumber = decNumber // base\n",
    "        \n",
    "    newString = \"\"\n",
    "    while not remstack.isEmpty():\n",
    "        newString = newString + digits[remstack.pop()]\n",
    "        \n",
    "    return newString"
   ]
  },
  {
   "cell_type": "code",
   "execution_count": 6,
   "id": "b584872d",
   "metadata": {
    "scrolled": true
   },
   "outputs": [
    {
     "data": {
      "text/plain": [
       "'420'"
      ]
     },
     "execution_count": 6,
     "metadata": {},
     "output_type": "execute_result"
    }
   ],
   "source": [
    "baseConverter(110, 5)"
   ]
  },
  {
   "cell_type": "markdown",
   "id": "042d5ed4",
   "metadata": {},
   "source": [
    "# 中序表達式轉化為後序表達式"
   ]
  },
  {
   "cell_type": "code",
   "execution_count": 6,
   "id": "c24bbf46",
   "metadata": {},
   "outputs": [],
   "source": [
    "from pythonds.basic import Stack\n",
    "import string\n",
    "\n",
    "def infixToPostfix(infixexpr):\n",
    "    prec = {}\n",
    "    prec[\"*\"] = 3\n",
    "    prec[\"/\"] = 3\n",
    "    prec[\"+\"] = 2\n",
    "    prec[\"-\"] = 2\n",
    "    prec[\"(\"] = 1\n",
    "    \n",
    "    opStack = Stack()\n",
    "    postfixlist = []\n",
    "    \n",
    "    tokenlist = infixexpr.split()\n",
    "    \n",
    "    for token in tokenlist:\n",
    "        if token in string.ascii_uppercase:\n",
    "            postfixlist.append(token)\n",
    "        elif token == '(':\n",
    "            opStack.push(token)\n",
    "        elif token == ')':\n",
    "            topToken = opStack.pop()\n",
    "            while topToken != '(':\n",
    "                postfixlist.append(topToken)\n",
    "                topToken = opStack.pop()\n",
    "        else:\n",
    "            while(not opStack.isEmpty()) and (prec[opStack.peek()] >= prec[token]):\n",
    "                postfixlist.append(opStack.pop())\n",
    "            opStack.push(token)\n",
    "            \n",
    "    while not opStack.isEmpty():\n",
    "        postfixlist.append(opStack.pop())\n",
    "        \n",
    "    return \" \".join(postfixlist)"
   ]
  },
  {
   "cell_type": "code",
   "execution_count": 7,
   "id": "00554ffc",
   "metadata": {},
   "outputs": [
    {
     "data": {
      "text/plain": [
       "'A B + C *'"
      ]
     },
     "execution_count": 7,
     "metadata": {},
     "output_type": "execute_result"
    }
   ],
   "source": [
    "infixToPostfix(\"( A + B ) * C\")"
   ]
  },
  {
   "cell_type": "markdown",
   "id": "cd624f59",
   "metadata": {},
   "source": [
    "# 後序表達式計算"
   ]
  },
  {
   "cell_type": "code",
   "execution_count": 9,
   "id": "848d7130",
   "metadata": {},
   "outputs": [],
   "source": [
    "from pythonds.basic import Stack\n",
    "\n",
    "def postfixEval(postfixExpr):\n",
    "    operandStack = Stack()\n",
    "    \n",
    "    tokenlist = postfixExpr.split()\n",
    "    \n",
    "    for token in tokenlist:\n",
    "        if token in \"0123456789\":\n",
    "            operandStack.push(int(token))\n",
    "        else:\n",
    "            operand2 = operandStack.pop()\n",
    "            operand1 = operandStack.pop()\n",
    "            result = doMath(token, operand1, operand2)\n",
    "            operandStack.push(result)\n",
    "            \n",
    "    return operandStack.pop()\n",
    "\n",
    "def doMath(op, op1, op2):\n",
    "    if op == \"*\":\n",
    "        return op1 * op2\n",
    "    elif op == \"/\":\n",
    "        return op1 / op2\n",
    "    elif op == \"+\":\n",
    "        return op1 + op2\n",
    "    else: \n",
    "        return op1 - op2"
   ]
  },
  {
   "cell_type": "code",
   "execution_count": 14,
   "id": "5b7077b6",
   "metadata": {},
   "outputs": [
    {
     "data": {
      "text/plain": [
       "15"
      ]
     },
     "execution_count": 14,
     "metadata": {},
     "output_type": "execute_result"
    }
   ],
   "source": [
    "postfixEval(\"1 2 + 5 *\")"
   ]
  },
  {
   "cell_type": "markdown",
   "id": "328777f8",
   "metadata": {},
   "source": [
    "# Python實現隊列"
   ]
  },
  {
   "cell_type": "code",
   "execution_count": 8,
   "id": "fb0629e9",
   "metadata": {},
   "outputs": [],
   "source": [
    "class Queue:\n",
    "    def __init__(self):\n",
    "        self.items = []\n",
    "        \n",
    "    def isEmpty(self):\n",
    "        return self.items == []\n",
    "    \n",
    "    def enqueue(self, item):\n",
    "        self.items.insert(0, item)\n",
    "        \n",
    "    def dequeue(self):\n",
    "        return self.items.pop()\n",
    "        \n",
    "    def size(self):\n",
    "        return len(self.items)\n",
    "    "
   ]
  },
  {
   "cell_type": "code",
   "execution_count": 10,
   "id": "06cb83f2",
   "metadata": {},
   "outputs": [
    {
     "data": {
      "text/plain": [
       "True"
      ]
     },
     "execution_count": 10,
     "metadata": {},
     "output_type": "execute_result"
    }
   ],
   "source": [
    "q = Queue()\n",
    "q.isEmpty()"
   ]
  },
  {
   "cell_type": "code",
   "execution_count": 11,
   "id": "028373d9",
   "metadata": {},
   "outputs": [],
   "source": [
    "q.enqueue('dog')\n",
    "q.enqueue(2)"
   ]
  },
  {
   "cell_type": "code",
   "execution_count": 12,
   "id": "862cb3d1",
   "metadata": {},
   "outputs": [
    {
     "data": {
      "text/plain": [
       "2"
      ]
     },
     "execution_count": 12,
     "metadata": {},
     "output_type": "execute_result"
    }
   ],
   "source": [
    "q.size()"
   ]
  },
  {
   "cell_type": "code",
   "execution_count": 13,
   "id": "46efd828",
   "metadata": {},
   "outputs": [
    {
     "data": {
      "text/plain": [
       "'dog'"
      ]
     },
     "execution_count": 13,
     "metadata": {},
     "output_type": "execute_result"
    }
   ],
   "source": [
    "q.dequeue()"
   ]
  },
  {
   "cell_type": "markdown",
   "id": "2be5d479",
   "metadata": {},
   "source": [
    "# 模擬傳土豆問題"
   ]
  },
  {
   "cell_type": "code",
   "execution_count": 15,
   "id": "b5234454",
   "metadata": {},
   "outputs": [],
   "source": [
    "from pythonds.basic import Queue\n",
    "\n",
    "def hotPotato(namelist, num):\n",
    "    simqueue = Queue()\n",
    "    for name in namelist:\n",
    "        simqueue.enqueue(name)\n",
    "        \n",
    "    while simqueue.size() > 1:\n",
    "        for i in range(num):\n",
    "            simqueue.enqueue(simqueue.dequeue())\n",
    "            \n",
    "        simqueue.dequeue()\n",
    "    \n",
    "    return simqueue.dequeue()"
   ]
  },
  {
   "cell_type": "code",
   "execution_count": 17,
   "id": "42f31773",
   "metadata": {},
   "outputs": [
    {
     "data": {
      "text/plain": [
       "'Susan'"
      ]
     },
     "execution_count": 17,
     "metadata": {},
     "output_type": "execute_result"
    }
   ],
   "source": [
    "hotPotato([\"Bill\", \"David\", \"Susan\", \"Jane\", \"Kent\", \"Brad\"], 7) "
   ]
  },
  {
   "cell_type": "markdown",
   "id": "0618c45a",
   "metadata": {},
   "source": [
    "# 模擬打印機任務\n",
    "# Printer、Task、PrintQueue三個類分別模擬打印機、打印任務、隊列"
   ]
  },
  {
   "cell_type": "code",
   "execution_count": 1,
   "id": "95e89f7d",
   "metadata": {},
   "outputs": [],
   "source": [
    "# printer檢查當前是否有任務在執行。有的話則處於工作狀態，計算剩餘工作時間（通過頁數計算），打印完成後處於空閒狀態。\n",
    "\n",
    "class Printer:\n",
    "    def __init__(self, ppm):\n",
    "        self.pagerate = ppm\n",
    "        self.currentTask = None\n",
    "        self.timeRemaining = 0\n",
    "        \n",
    "    def tick(self):\n",
    "        if self.currentTask != None:\n",
    "            self.timeRemaining = self.timeRemaining - 1\n",
    "            if self.timeRemaining <= 0:\n",
    "                self.currentTask = None\n",
    "                \n",
    "    def busy(self):\n",
    "        if self.currentTask != None:\n",
    "            return True\n",
    "        else:\n",
    "            return False\n",
    "        \n",
    "    def startNext(self, newtask):\n",
    "        self.currentTask = newtask\n",
    "        self.timeRemaining = newtask.getPages() * 60 / self.pagerate\n",
    "\n",
    "\n",
    "    \n"
   ]
  },
  {
   "cell_type": "code",
   "execution_count": 2,
   "id": "9e811136",
   "metadata": {},
   "outputs": [],
   "source": [
    "import random \n",
    "class Task:\n",
    "    def __inti__(self, time):\n",
    "        self.timestamp = time\n",
    "        self.pages = random.randrange(1, 21)\n",
    "        \n",
    "    def getStamp(self):\n",
    "        return self.timestamp\n",
    "    \n",
    "    def getPages(self):\n",
    "        return self.pages\n",
    "    \n",
    "    def waitTime(self, currenttime):\n",
    "        return currenttime - self.timestamp"
   ]
  },
  {
   "cell_type": "code",
   "execution_count": 3,
   "id": "e5f254bf",
   "metadata": {},
   "outputs": [],
   "source": [
    "from pythonds.basic import Queue\n",
    "import random\n",
    "\n",
    "def simulation(numSeconds, pagePerMinute):\n",
    "    labprinter = Printer(pagePerMinute)\n",
    "    printQueue = Queue()\n",
    "    waitingtimes = []\n",
    "    \n",
    "    for currentSecond in range(numSeconds):\n",
    "        if newPrintTask():\n",
    "            task = Task(currentSecond)\n",
    "            printQueue.enqueue(task)\n",
    "            \n",
    "        if (not labprinter.busy()) and (not printQueue.isEmpty()):\n",
    "            nexttask = printQueue.dequeue()\n",
    "            waitingtimes.append(nexttask.waitTime(currentSecond))\n",
    "            labprinter.startNext(nexttask)\n",
    "        labprinter.tick()\n",
    "        \n",
    "    averageWait = sum(waitingtimes)/len(waitingtimes)\n",
    "    print(\"Average Wait %6.2f secs %3d tasks remaining.\"%(averageWait, printQueue.size()))\n",
    "    \n",
    "    \n",
    "def newPrintTask():\n",
    "    num = random.randrange(1, 181)\n",
    "    if num == 180:\n",
    "        return True\n",
    "    else:\n",
    "        return False"
   ]
  },
  {
   "cell_type": "code",
   "execution_count": 7,
   "id": "56339e60",
   "metadata": {},
   "outputs": [
    {
     "ename": "TypeError",
     "evalue": "Task() takes no arguments",
     "output_type": "error",
     "traceback": [
      "\u001b[1;31m---------------------------------------------------------------------------\u001b[0m",
      "\u001b[1;31mTypeError\u001b[0m                                 Traceback (most recent call last)",
      "Input \u001b[1;32mIn [7]\u001b[0m, in \u001b[0;36m<cell line: 1>\u001b[1;34m()\u001b[0m\n\u001b[0;32m      1\u001b[0m \u001b[38;5;28;01mfor\u001b[39;00m i \u001b[38;5;129;01min\u001b[39;00m \u001b[38;5;28mrange\u001b[39m(\u001b[38;5;241m10\u001b[39m):\n\u001b[1;32m----> 2\u001b[0m     \u001b[43msimulation\u001b[49m\u001b[43m(\u001b[49m\u001b[38;5;241;43m3600\u001b[39;49m\u001b[43m,\u001b[49m\u001b[38;5;241;43m5\u001b[39;49m\u001b[43m)\u001b[49m\n",
      "Input \u001b[1;32mIn [3]\u001b[0m, in \u001b[0;36msimulation\u001b[1;34m(numSeconds, pagePerMinute)\u001b[0m\n\u001b[0;32m      9\u001b[0m \u001b[38;5;28;01mfor\u001b[39;00m currentSecond \u001b[38;5;129;01min\u001b[39;00m \u001b[38;5;28mrange\u001b[39m(numSeconds):\n\u001b[0;32m     10\u001b[0m     \u001b[38;5;28;01mif\u001b[39;00m newPrintTask():\n\u001b[1;32m---> 11\u001b[0m         task \u001b[38;5;241m=\u001b[39m \u001b[43mTask\u001b[49m\u001b[43m(\u001b[49m\u001b[43mcurrentSecond\u001b[49m\u001b[43m)\u001b[49m\n\u001b[0;32m     12\u001b[0m         printQueue\u001b[38;5;241m.\u001b[39menqueue(task)\n\u001b[0;32m     14\u001b[0m     \u001b[38;5;28;01mif\u001b[39;00m (\u001b[38;5;129;01mnot\u001b[39;00m labprinter\u001b[38;5;241m.\u001b[39mbusy()) \u001b[38;5;129;01mand\u001b[39;00m (\u001b[38;5;129;01mnot\u001b[39;00m printQueue\u001b[38;5;241m.\u001b[39misEmpty()):\n",
      "\u001b[1;31mTypeError\u001b[0m: Task() takes no arguments"
     ]
    }
   ],
   "source": [
    "for i in range(10):\n",
    "    simulation(3600,5)"
   ]
  },
  {
   "cell_type": "markdown",
   "id": "8161d1e3",
   "metadata": {},
   "source": [
    "# 雙端隊列實現"
   ]
  },
  {
   "cell_type": "code",
   "execution_count": 1,
   "id": "498419fc",
   "metadata": {},
   "outputs": [],
   "source": [
    "class Deque:\n",
    "    def __init__(self):\n",
    "        self.items = []\n",
    "        \n",
    "    def isEmpty(self):\n",
    "        return self.items == []\n",
    "    \n",
    "    def addFront(self, item):\n",
    "        self.items.append(item)\n",
    "        \n",
    "    def addRear(self, item):\n",
    "        self.items.insert(0, item)\n",
    "        \n",
    "    def removeFront(self):\n",
    "        return self.items.pop()\n",
    "    \n",
    "    def removeRear(self):\n",
    "        return self.items.pop(0)\n",
    "    \n",
    "    def size(self):\n",
    "        return len(self.items)"
   ]
  },
  {
   "cell_type": "code",
   "execution_count": 2,
   "id": "72ab7744",
   "metadata": {},
   "outputs": [
    {
     "data": {
      "text/plain": [
       "True"
      ]
     },
     "execution_count": 2,
     "metadata": {},
     "output_type": "execute_result"
    }
   ],
   "source": [
    "d = Deque()\n",
    "d.isEmpty()"
   ]
  },
  {
   "cell_type": "code",
   "execution_count": 3,
   "id": "c7c7bff5",
   "metadata": {},
   "outputs": [],
   "source": [
    "d.addFront(4)"
   ]
  },
  {
   "cell_type": "code",
   "execution_count": 4,
   "id": "632f9002",
   "metadata": {},
   "outputs": [],
   "source": [
    "d.addFront('dog')"
   ]
  },
  {
   "cell_type": "code",
   "execution_count": 5,
   "id": "4e85d9f3",
   "metadata": {},
   "outputs": [],
   "source": [
    "d.addRear('123')"
   ]
  },
  {
   "cell_type": "code",
   "execution_count": 6,
   "id": "e8b06bf9",
   "metadata": {},
   "outputs": [
    {
     "data": {
      "text/plain": [
       "3"
      ]
     },
     "execution_count": 6,
     "metadata": {},
     "output_type": "execute_result"
    }
   ],
   "source": [
    "d.size()"
   ]
  },
  {
   "cell_type": "code",
   "execution_count": 7,
   "id": "f5be77a9",
   "metadata": {},
   "outputs": [
    {
     "data": {
      "text/plain": [
       "False"
      ]
     },
     "execution_count": 7,
     "metadata": {},
     "output_type": "execute_result"
    }
   ],
   "source": [
    "d.isEmpty()"
   ]
  },
  {
   "cell_type": "code",
   "execution_count": 8,
   "id": "d5df9024",
   "metadata": {},
   "outputs": [],
   "source": [
    "d.addRear(8.4)"
   ]
  },
  {
   "cell_type": "code",
   "execution_count": 9,
   "id": "a4c7a1f3",
   "metadata": {},
   "outputs": [
    {
     "data": {
      "text/plain": [
       "8.4"
      ]
     },
     "execution_count": 9,
     "metadata": {},
     "output_type": "execute_result"
    }
   ],
   "source": [
    "d.removeRear()"
   ]
  },
  {
   "cell_type": "code",
   "execution_count": 10,
   "id": "c08f07a9",
   "metadata": {},
   "outputs": [
    {
     "data": {
      "text/plain": [
       "'dog'"
      ]
     },
     "execution_count": 10,
     "metadata": {},
     "output_type": "execute_result"
    }
   ],
   "source": [
    "d.removeFront()"
   ]
  },
  {
   "cell_type": "markdown",
   "id": "f2fc9e2e",
   "metadata": {},
   "source": [
    "# 回文檢測器"
   ]
  },
  {
   "cell_type": "code",
   "execution_count": 11,
   "id": "62d8c67e",
   "metadata": {},
   "outputs": [],
   "source": [
    "from pythonds.basic import Deque\n",
    "\n",
    "def palchecker(aString):\n",
    "    chardeque = Deque()\n",
    "    \n",
    "    for ch in aString:\n",
    "        chardeque.addRear(ch)\n",
    "        \n",
    "    stillEqual = True\n",
    "    \n",
    "    while chardeque.size() > 1 and stillEqual:\n",
    "        first = chardeque.removeFront()\n",
    "        last = chardeque.removeRear()\n",
    "        if first != last:\n",
    "            stillEqual = False\n",
    "            \n",
    "    return stillEqual"
   ]
  },
  {
   "cell_type": "code",
   "execution_count": 12,
   "id": "cdef351e",
   "metadata": {},
   "outputs": [
    {
     "data": {
      "text/plain": [
       "True"
      ]
     },
     "execution_count": 12,
     "metadata": {},
     "output_type": "execute_result"
    }
   ],
   "source": [
    "palchecker(\"12321\")"
   ]
  },
  {
   "cell_type": "code",
   "execution_count": 14,
   "id": "35d31dc2",
   "metadata": {},
   "outputs": [
    {
     "data": {
      "text/plain": [
       "True"
      ]
     },
     "execution_count": 14,
     "metadata": {},
     "output_type": "execute_result"
    }
   ],
   "source": [
    "palchecker('toot')"
   ]
  },
  {
   "cell_type": "markdown",
   "id": "804f9564",
   "metadata": {},
   "source": [
    "# Node類"
   ]
  },
  {
   "cell_type": "code",
   "execution_count": 35,
   "id": "ba20eb87",
   "metadata": {},
   "outputs": [],
   "source": [
    "class Node:\n",
    "    def __init__(self, initdata):\n",
    "        self.data = initdata\n",
    "        self.next = None\n",
    "        \n",
    "    def getData(self):\n",
    "        return self.data\n",
    "    \n",
    "    def getNext(self):\n",
    "        return self.next\n",
    "    \n",
    "    def setData(self, newdata):\n",
    "        self.data = newdata\n",
    "        \n",
    "    def setNext(self, newnext):\n",
    "        self.next = newnext"
   ]
  },
  {
   "cell_type": "code",
   "execution_count": 13,
   "id": "53476b12",
   "metadata": {},
   "outputs": [],
   "source": [
    "class UnorderList:\n",
    "    def __init__(self):\n",
    "        self.head = None\n",
    "        \n",
    "    def add(self, item):\n",
    "        temp = Node(item)\n",
    "        temp.setNext(self.head)\n",
    "        self.head = temp\n",
    "    \n",
    "    def length(self):\n",
    "        current = self.head \n",
    "        count = 0\n",
    "        while current != None:\n",
    "            count = count + 1 \n",
    "            current = current.getNext()\n",
    "        \n",
    "        return count\n",
    "\n",
    "    def search(self, item):\n",
    "        current = self.head \n",
    "        found = False\n",
    "        while current != None and not found:\n",
    "            if current.getData() == item:\n",
    "                found = True\n",
    "            else:\n",
    "                current = current.getNext()\n",
    "\n",
    "        return found\n",
    "    \n",
    "    def remove(self, item):\n",
    "        current = self.head\n",
    "        previous = None\n",
    "        found = False\n",
    "        while not found:\n",
    "            if current.getData == item:\n",
    "                found = True\n",
    "            else:\n",
    "                previous = current\n",
    "                current = current.getNext()\n",
    "                \n",
    "        if previous == None:\n",
    "            self.head = current.getNext()\n",
    "        else:\n",
    "            previous.setNext(current.getNext())\n",
    "            \n",
    "    def insert(self, item, num):\n",
    "        current = self.head\n",
    "        previous = None\n",
    "        one= Node(num)\n",
    "        for i in (0,num):\n",
    "            previous = current\n",
    "            current = current.getNext()\n",
    "        previous.setNext(one)\n",
    "        one.setNext(current)\n",
    "        \n",
    "    def pop(item):\n",
    "        current = self.head\n",
    "        previous = None\n",
    "        \n"
   ]
  },
  {
   "cell_type": "code",
   "execution_count": 14,
   "id": "d8e4bd82",
   "metadata": {},
   "outputs": [],
   "source": [
    "mylist = UnorderList()\n",
    "mylist.add(31)"
   ]
  },
  {
   "cell_type": "code",
   "execution_count": 15,
   "id": "7e6c0922",
   "metadata": {},
   "outputs": [],
   "source": [
    "mylist.add(17)"
   ]
  },
  {
   "cell_type": "code",
   "execution_count": 16,
   "id": "e17c4a70",
   "metadata": {},
   "outputs": [],
   "source": [
    "mylist.add(18)"
   ]
  },
  {
   "cell_type": "code",
   "execution_count": 21,
   "id": "8ed4b022",
   "metadata": {},
   "outputs": [
    {
     "data": {
      "text/plain": [
       "4"
      ]
     },
     "execution_count": 21,
     "metadata": {},
     "output_type": "execute_result"
    }
   ],
   "source": [
    "mylist.length()"
   ]
  },
  {
   "cell_type": "code",
   "execution_count": 18,
   "id": "c745e312",
   "metadata": {},
   "outputs": [
    {
     "data": {
      "text/plain": [
       "True"
      ]
     },
     "execution_count": 18,
     "metadata": {},
     "output_type": "execute_result"
    }
   ],
   "source": [
    "mylist.search(17)"
   ]
  },
  {
   "cell_type": "code",
   "execution_count": 19,
   "id": "87484c5b",
   "metadata": {},
   "outputs": [],
   "source": [
    "mylist.insert(12,2)"
   ]
  },
  {
   "cell_type": "markdown",
   "id": "62781d81",
   "metadata": {},
   "source": [
    "# 有序鏈錶"
   ]
  },
  {
   "cell_type": "code",
   "execution_count": 78,
   "id": "fd20f2c6",
   "metadata": {},
   "outputs": [],
   "source": [
    "class OrderedList:\n",
    "    def __init__(self):\n",
    "        self.head = None\n",
    "        \n",
    "    def search(self, item):\n",
    "        current = self.head \n",
    "        found = False\n",
    "        stop = False\n",
    "        while current != None and not found:\n",
    "            if current.getData() == item:\n",
    "                found = True\n",
    "            else:\n",
    "                if current.getData() > item:\n",
    "                    stop = True\n",
    "                else:\n",
    "                    current = current.getData()\n",
    "        return found\n",
    "        \n",
    "    def add(self, item):\n",
    "        current = self.head\n",
    "        previous = None\n",
    "        stop = False\n",
    "        while current != None and not stop:\n",
    "            if current.getData() > item:\n",
    "                stop = True\n",
    "            else:\n",
    "                previous = current\n",
    "                current = current.getNext()\n",
    "        \n",
    "        temp = Node(item)\n",
    "        if previous == None:\n",
    "            temp.setNext(self.head)\n",
    "            self.head = temp\n",
    "        else:\n",
    "            temp.setNext(current)\n",
    "            previous.setNext(temp)\n",
    "        \n",
    "    def length(self):\n",
    "        current = self.head \n",
    "        count = 0\n",
    "        while current != None:\n",
    "            count = count + 1 \n",
    "            current = current.getNext()\n",
    "        \n",
    "        return count\n",
    "    \n",
    "    def index(self, item):\n",
    "        current = self.head\n",
    "        count = 0\n",
    "        while current.getData() != item:\n",
    "            count = count + 1 \n",
    "            current = current.getNext()\n",
    "        return count\n",
    "        \n",
    "    def pop(self):\n",
    "        previous = None\n",
    "        current = self.head \n",
    "        while current != None:\n",
    "            previous = current\n",
    "            data = current.getData()\n",
    "            current = current.getNext()\n",
    "        previous.setNext(None)\n",
    "        return data\n",
    "    \n",
    "    def pop(self, item):\n",
    "        previous = None\n",
    "        current = self.head\n",
    "        count = 0\n",
    "        while count != item:\n",
    "            count = count +1\n",
    "            previous = current \n",
    "            current = current.getNext()\n",
    "        pop = current.getData()\n",
    "        current = current.getNext()\n",
    "        previous.setNext(current)\n",
    "        return pop"
   ]
  },
  {
   "cell_type": "code",
   "execution_count": 79,
   "id": "86f9a66c",
   "metadata": {},
   "outputs": [
    {
     "data": {
      "text/plain": [
       "4"
      ]
     },
     "execution_count": 79,
     "metadata": {},
     "output_type": "execute_result"
    }
   ],
   "source": [
    "mylist = OrderedList()\n",
    "mylist.add(12)\n",
    "mylist.add(59)\n",
    "mylist.add(23)\n",
    "mylist.add(16)\n",
    "mylist.length()"
   ]
  },
  {
   "cell_type": "code",
   "execution_count": 80,
   "id": "ee5e6663",
   "metadata": {},
   "outputs": [
    {
     "data": {
      "text/plain": [
       "1"
      ]
     },
     "execution_count": 80,
     "metadata": {},
     "output_type": "execute_result"
    }
   ],
   "source": [
    "mylist.index(16)"
   ]
  },
  {
   "cell_type": "code",
   "execution_count": 81,
   "id": "1a24f52e",
   "metadata": {},
   "outputs": [
    {
     "data": {
      "text/plain": [
       "23"
      ]
     },
     "execution_count": 81,
     "metadata": {},
     "output_type": "execute_result"
    }
   ],
   "source": [
    "mylist.pop(2)"
   ]
  },
  {
   "cell_type": "code",
   "execution_count": 82,
   "id": "afd320ac",
   "metadata": {},
   "outputs": [
    {
     "data": {
      "text/plain": [
       "3"
      ]
     },
     "execution_count": 82,
     "metadata": {},
     "output_type": "execute_result"
    }
   ],
   "source": [
    "mylist.length()"
   ]
  }
 ],
 "metadata": {
  "kernelspec": {
   "display_name": "Python 3 (ipykernel)",
   "language": "python",
   "name": "python3"
  },
  "language_info": {
   "codemirror_mode": {
    "name": "ipython",
    "version": 3
   },
   "file_extension": ".py",
   "mimetype": "text/x-python",
   "name": "python",
   "nbconvert_exporter": "python",
   "pygments_lexer": "ipython3",
   "version": "3.8.13"
  }
 },
 "nbformat": 4,
 "nbformat_minor": 5
}
