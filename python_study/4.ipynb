{
 "cells": [
  {
   "cell_type": "code",
   "execution_count": 1,
   "id": "1bcc7e91",
   "metadata": {},
   "outputs": [],
   "source": [
    "def toStr(n, base):\n",
    "    converString = \"0123456789ABCDEF\"\n",
    "    if n < base:\n",
    "        return convertString[n]\n",
    "    else: \n",
    "        return toStr(n//base, base) + converString[n%base]"
   ]
  },
  {
   "cell_type": "code",
   "execution_count": 3,
   "id": "043814e8",
   "metadata": {},
   "outputs": [],
   "source": [
    "from pythonds.basic import Stack\n",
    "rStack = Stack()\n",
    "\n",
    "def toStr(n, base):\n",
    "    convertString = \"0123456789ABCDEF\"\n",
    "    if n < base:\n",
    "        rStack.push(convertString[n])\n",
    "    else:\n",
    "        rStack.push(convertString[n % base])\n",
    "        toStr(n // base, base)"
   ]
  },
  {
   "cell_type": "code",
   "execution_count": 1,
   "id": "e8fa680f",
   "metadata": {
    "scrolled": false
   },
   "outputs": [],
   "source": [
    "from turtle import * \n",
    "\n",
    "myTurtle = Turtle()\n",
    "myWin = myTurtle.getscreen()\n",
    "\n",
    "def drawSpiral(myTurtle, lineLen):\n",
    "    if lineLen > 0:\n",
    "        myTurtle.forward(lineLen)\n",
    "        myTurtle.right(90)\n",
    "        drawSpiral(myTurtle, lineLen - 5)\n",
    "\n",
    "drawSpiral(myTurtle, 100)\n",
    "myWin.exitonclick()"
   ]
  },
  {
   "cell_type": "markdown",
   "id": "1a6a147e",
   "metadata": {},
   "source": [
    "# 謝爾賓斯基三角形"
   ]
  },
  {
   "cell_type": "code",
   "execution_count": 2,
   "id": "3c3f68e6",
   "metadata": {},
   "outputs": [],
   "source": [
    "from turtle import * \n",
    "\n",
    "def drawTriangle(points, color, myTurtle):\n",
    "    myTurtle.fillcolor(color)\n",
    "    myTurtle.up()\n",
    "    myTurtle.goto(points[0])\n",
    "    myTurtle.down()\n",
    "    myTurtle.begin_fill()\n",
    "    myTurtle.goto(points[1])\n",
    "    myTurtle.goto(points[2])\n",
    "    myTurtle.end_fill()\n",
    "    \n",
    "def getMid(p1, p2):\n",
    "    return( (p1[0]+p2[0]) / 2, (p1[1]+p2[1]) / 2)\n",
    "\n",
    "def sierpinski(points, degree, myTurtle):\n",
    "    colormap = ['blue', 'red', 'green', 'white', 'yellow', 'violet', 'orange']\n",
    "    drawTriangle(points, colormap[degree], myTurtle)\n",
    "    if degree > 0:\n",
    "        sierpinski([points[0], getMid(points[0], points[1]), getMid(points[0], points[2])], degree - 1, myTurtle)\n",
    "        sierpinski([points[1], getMid(points[0], points[1]), getMid(points[1], points[2])], degree - 1, myTurtle)\n",
    "        sierpinski([points[2], getMid(points[2], points[1]), getMid(points[0], points[2])], degree - 1, myTurtle)\n",
    "    \n",
    "    "
   ]
  },
  {
   "cell_type": "code",
   "execution_count": 3,
   "id": "dc40a1bf",
   "metadata": {},
   "outputs": [],
   "source": [
    "myTurtle = Turtle()\n",
    "myWin = myTurtle.getscreen()\n",
    "myPoints = [(-400, -200), (0, 400), (400, -200)]\n",
    "sierpinski(myPoints, 5, myTurtle)\n",
    "myWin.exitonclick()"
   ]
  },
  {
   "cell_type": "code",
   "execution_count": null,
   "id": "4eb4d800",
   "metadata": {
    "scrolled": false
   },
   "outputs": [],
   "source": [
    "help('turtle')"
   ]
  },
  {
   "cell_type": "markdown",
   "id": "a6015e3e",
   "metadata": {},
   "source": [
    "# 漢諾塔問題"
   ]
  },
  {
   "cell_type": "code",
   "execution_count": 4,
   "id": "18475507",
   "metadata": {},
   "outputs": [],
   "source": [
    "def moveTower(height, fromPole, toPole, withPole):\n",
    "    if height >= 1:\n",
    "        moveTower(height - 1, fromPole, wtihPole, toPole)\n",
    "        moveDisk(fromPole, toPole)\n",
    "        moveTower(height - 1, withPole, toPole, fromPole)\n",
    "        \n",
    "def moveDisk(fp, tp):\n",
    "    print(\"moving disk from %d to %d\\n\" % (fp, tp))"
   ]
  },
  {
   "cell_type": "markdown",
   "id": "16fa6ef0",
   "metadata": {},
   "source": [
    "# 迷宮探索函數"
   ]
  },
  {
   "cell_type": "code",
   "execution_count": null,
   "id": "7bb927d7",
   "metadata": {},
   "outputs": [],
   "source": [
    "def searchFrom(maze, startRow, startColumn):\n",
    "    maze.updatePosition(startRow, startColumn)\n",
    "    \n",
    "    if maze[startRow][startColumn] == OBSTACLE:\n",
    "        return False\n",
    "    if maze.isExit(startRow, startColumn):\n",
    "        maze.updatePosition(startRow, startColumn, PART_OF_PATH)\n",
    "        return True\n",
    "    maze.updatePosition(startRow, startColumn, TRIED)\n",
    "    \n",
    "    found = searchFrom(maze, startRow-1, startColumn) or\n",
    "            searchFrom(maze, startRow+1, startColumn) or\n",
    "            searchFrom(maze, startRow, startColumn-1) or\n",
    "            searchFrom(maze, startRow, startColumn+1)\n",
    "    if found:\n",
    "        maze.updatePosition(startRow, startColumn, PART_OF_PATH)\n",
    "    else:\n",
    "        maze.updatePosition(startRow, startColumn, DEAD_END)\n",
    "    return found"
   ]
  },
  {
   "cell_type": "code",
   "execution_count": null,
   "id": "86180549",
   "metadata": {},
   "outputs": [],
   "source": [
    "class Maze:\n",
    "    def __init__(self, mazeFileName):\n",
    "        rowsInMaze = 0 \n",
    "        columnsInMaze = 0 \n",
    "        self.mazelist = []\n",
    "        mazeFile = open(mazeFileName, 'r')\n",
    "        rowsInMaze = 0 \n",
    "        for line in mazeFile:\n",
    "            rowsList = []\n",
    "            col = 0 \n",
    "            for ch in line[:-1]:\n",
    "                rowList.append(ch)\n",
    "                if ch == 'S':\n",
    "                    self.startRow = rowsInMaze\n",
    "                    self.startCol = col\n",
    "                col = col + 1 \n",
    "            rowsInMaze = rowsInMaze + 1 \n",
    "            self.mazelist.append(rowList)\n",
    "            columnsInMaze = len(rowList)\n",
    "            \n",
    "        self.rowsInMaze = rowsInMaze\n",
    "        self.columnsInMaze = columnsInMaze\n",
    "        self.xTranslate = -columnsInMaze/2\n",
    "        self.yTranslate = rowsInMaze/2\n",
    "        self.t = Turtle(shape='turtle')\n",
    "        setup(width=600, height=600)\n",
    "        setworldcoordinates(-(columnsInMaze-1)/2-.5,\n",
    "                            -(rowsInMaze-1)2-.5,\n",
    "                            (columnsInMaze-1)/2+.5,\n",
    "                            (rowsInMaze-1)/2+.5)\n",
    "    \n",
    "    def drawMaze(self):\n",
    "        for y in range (self.rowsInMaze):\n",
    "            for x in range(self.columnsInMaze):\n",
    "                if self.mazelist[y][x] == OBSTACLE:\n",
    "                    self.drawCenteredBox(x+self.xTranslate, -y+self.yTranslate, 'tan')\n",
    "        self.t.color('black', 'blue')\n",
    "        \n",
    "    def drawCenteredBox(self, x, y, color):\n",
    "        tracer(0)\n",
    "        self.t.up()\n",
    "        self.t.goto(x-.5, y-.5)\n",
    "        self.t.colorr('black', color)\n",
    "        self.t.setheading(90)\n",
    "        self.t.down()\n",
    "        self.t.begin_fill()\n",
    "        for i in range(4):\n",
    "            self.t.forward()\n",
    "            self.t.right(90)\n",
    "        self.t.end_fill()\n",
    "        update()\n",
    "        tracer(1)\n",
    "        \n",
    "    def moveTurtle(self, x, y):\n",
    "        self.t.up()\n",
    "        self.t.setheading(self.t.towards(x+self.xTranslate, -y+yTranslate))\n",
    "        self.t.goto(x+self.xTranslate, -y+self.yTranslate)\n",
    "    \n",
    "    def dropBreadcrumb(self, color):\n",
    "        self.t.dot(color)\n",
    "        \n",
    "    def updatePosition(self, row, col, val=None):\n",
    "        if val:\n",
    "            self.mazelist[row][column] = val\n",
    "        self.moveTurtle(col, row)\n",
    "        \n",
    "        if val == PART_OF_PATH:\n",
    "            color = 'green'\n",
    "        elif val == OBSTACLE:\n",
    "            color = 'red'\n",
    "        elif val = TRIED:\n",
    "            color = 'black'\n",
    "        elif val = DEAD_END:\n",
    "            color = red\n",
    "        else:\n",
    "            color = None\n",
    "            \n",
    "        if color:\n",
    "            slef.dropBreadcrumb(color)\n",
    "            \n",
    "    def isExit(self, row, col):\n",
    "        return (row ==0 or \n",
    "                row == self.rowsInMaze-1 or \n",
    "                col ==0 or \n",
    "                col == self.columnsInMaze-1)\n",
    "    \n",
    "    def __getitem__(self, idx):\n",
    "        return self.mazelist[idx]"
   ]
  },
  {
   "cell_type": "markdown",
   "id": "ba1ba7bb",
   "metadata": {},
   "source": [
    "# 找零遞歸問題"
   ]
  },
  {
   "cell_type": "code",
   "execution_count": 5,
   "id": "2dcfd98e",
   "metadata": {},
   "outputs": [
    {
     "data": {
      "text/plain": [
       "6"
      ]
     },
     "execution_count": 5,
     "metadata": {},
     "output_type": "execute_result"
    }
   ],
   "source": [
    "def recMC(coinValueList, change):\n",
    "    minCoins = change \n",
    "    if change in coinValueList:\n",
    "        return 1 \n",
    "    else:\n",
    "        for i in [c for c in coinValueList if c <= change]:\n",
    "            numCoins = 1 + recMC(coinValueList, change-i)\n",
    "            if numCoins < minCoins:\n",
    "                minCoins = numCoins\n",
    "    return minCoins\n",
    "\n",
    "recMC([1, 5, 10, 25], 63)"
   ]
  },
  {
   "cell_type": "code",
   "execution_count": 3,
   "id": "b49667e4",
   "metadata": {},
   "outputs": [
    {
     "data": {
      "text/plain": [
       "6"
      ]
     },
     "execution_count": 3,
     "metadata": {},
     "output_type": "execute_result"
    }
   ],
   "source": [
    "#添加查詢表\n",
    "def recDC(coinValueList, change, knownResults):\n",
    "    minCoins = change \n",
    "    if change in coinValueList:\n",
    "        knownResults[change] = 1 \n",
    "        return 1 \n",
    "    elif knownResults[change] > 0:\n",
    "        return knownResults[change]\n",
    "    else:\n",
    "        for i in [c for c in coinValueList if c <= change]:\n",
    "            numCoins = 1 + recDC(coinValueList, change-i, knownResults)\n",
    "            if numCoins < minCoins:\n",
    "                minCoins = numCoins\n",
    "                knownResults[change] = minCoins\n",
    "    return minCoins\n",
    "    \n",
    "recDC([1, 5, 10, 25], 63, [0]*64)"
   ]
  },
  {
   "cell_type": "code",
   "execution_count": 4,
   "id": "16f03ba9",
   "metadata": {},
   "outputs": [],
   "source": [
    "#動態規劃\n",
    "def dpMakeChange(coinValueList, change, minCoins):\n",
    "    for cents in range(change+1):\n",
    "        coinCount = cents\n",
    "        for j in [c for c in coinValueList if c < cents]:\n",
    "            if minCoins[cents-j] +1 < coinCount:\n",
    "                coinCount = minCoins[cent-j] + 1\n",
    "        minCoins[cents] = coinCount\n",
    "    return minCoins[change]"
   ]
  },
  {
   "cell_type": "code",
   "execution_count": 16,
   "id": "0148597c",
   "metadata": {},
   "outputs": [],
   "source": [
    "def dpMakeChange(coinValueList, change, minCoins, coinUsed):\n",
    "    for cents in range(change+1):\n",
    "        coinCount = cents\n",
    "        newCoin = 1\n",
    "        for j in [c for c in coinValueList if c <= cents]:\n",
    "            if minCoins[cents-j] + 1 < coinCount:\n",
    "                coinCount = minCoins[cents-j]+1\n",
    "                newCoin = j\n",
    "        minCoins[cents] = coinCount\n",
    "        coinUsed[cents] = newCoin\n",
    "    return minCoins[change]\n",
    "\n",
    "def printCoins(coinsUsed, change):\n",
    "    coin = change\n",
    "    while coin > 0:\n",
    "        thisCoin = coinsUsed[coin]\n",
    "        print(thisCoin)\n",
    "        coin = coin - thisCoin\n",
    "        "
   ]
  },
  {
   "cell_type": "code",
   "execution_count": 6,
   "id": "6835f24a",
   "metadata": {},
   "outputs": [],
   "source": [
    "cl = [1, 5, 10, 21, 25]"
   ]
  },
  {
   "cell_type": "code",
   "execution_count": 7,
   "id": "95542571",
   "metadata": {},
   "outputs": [],
   "source": [
    "coinsUsed = [0]*64"
   ]
  },
  {
   "cell_type": "code",
   "execution_count": 8,
   "id": "66020b23",
   "metadata": {},
   "outputs": [],
   "source": [
    "coinCount = [0]*64"
   ]
  },
  {
   "cell_type": "code",
   "execution_count": 12,
   "id": "4e1fe148",
   "metadata": {},
   "outputs": [
    {
     "data": {
      "text/plain": [
       "3"
      ]
     },
     "execution_count": 12,
     "metadata": {},
     "output_type": "execute_result"
    }
   ],
   "source": [
    "dpMakeChange(cl, 63, coinCount, coinsUsed)"
   ]
  },
  {
   "cell_type": "code",
   "execution_count": 17,
   "id": "f3bc1d8a",
   "metadata": {
    "scrolled": true
   },
   "outputs": [
    {
     "name": "stdout",
     "output_type": "stream",
     "text": [
      "21\n",
      "21\n",
      "21\n"
     ]
    }
   ],
   "source": [
    "printCoins(coinsUsed, 63)"
   ]
  },
  {
   "cell_type": "code",
   "execution_count": null,
   "id": "91563f46",
   "metadata": {},
   "outputs": [],
   "source": []
  }
 ],
 "metadata": {
  "kernelspec": {
   "display_name": "Python 3 (ipykernel)",
   "language": "python",
   "name": "python3"
  },
  "language_info": {
   "codemirror_mode": {
    "name": "ipython",
    "version": 3
   },
   "file_extension": ".py",
   "mimetype": "text/x-python",
   "name": "python",
   "nbconvert_exporter": "python",
   "pygments_lexer": "ipython3",
   "version": "3.8.13"
  }
 },
 "nbformat": 4,
 "nbformat_minor": 5
}
